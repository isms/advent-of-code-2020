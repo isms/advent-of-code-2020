{
 "cells": [
  {
   "cell_type": "code",
   "execution_count": 23,
   "metadata": {},
   "outputs": [],
   "source": [
    "from collections import defaultdict\n",
    "\n",
    "with open(\"input.txt\") as fp:\n",
    "    text = fp.read()\n",
    "    \n",
    "def parse(text):\n",
    "    bags = defaultdict(list)\n",
    "    for line in text.strip().splitlines():\n",
    "        container, contents = line.strip().split(\" bags contain \")\n",
    "        contents = contents.split(\", \")\n",
    "        for content in contents:\n",
    "            space = content.index(\" \")\n",
    "            if content.startswith(\"no\"):\n",
    "                continue\n",
    "            n = int(content[:space])\n",
    "            content = content[space + 1:].rstrip(\"s.\").replace(\"bag\", \"\").strip()\n",
    "            bags[container].append((content, n))\n",
    "    return bags"
   ]
  },
  {
   "cell_type": "code",
   "execution_count": 24,
   "metadata": {},
   "outputs": [
    {
     "data": {
      "text/plain": [
       "defaultdict(list,\n",
       "            {'shiny gold': [('dark red', 2)],\n",
       "             'dark red': [('dark orange', 2)],\n",
       "             'dark orange': [('dark yellow', 2)],\n",
       "             'dark yellow': [('dark green', 2)],\n",
       "             'dark green': [('dark blue', 2)],\n",
       "             'dark blue': [('dark violet', 2)]})"
      ]
     },
     "execution_count": 24,
     "metadata": {},
     "output_type": "execute_result"
    }
   ],
   "source": [
    "parse(\"\"\"\n",
    "shiny gold bags contain 2 dark red bags.\n",
    "dark red bags contain 2 dark orange bags.\n",
    "dark orange bags contain 2 dark yellow bags.\n",
    "dark yellow bags contain 2 dark green bags.\n",
    "dark green bags contain 2 dark blue bags.\n",
    "dark blue bags contain 2 dark violet bags.\n",
    "dark violet bags contain no other bags.\n",
    "\"\"\")"
   ]
  },
  {
   "cell_type": "markdown",
   "metadata": {},
   "source": [
    "### Part 1"
   ]
  },
  {
   "cell_type": "code",
   "execution_count": 3,
   "metadata": {},
   "outputs": [],
   "source": [
    "from collections import deque\n",
    "\n",
    "\n",
    "def part1(bags):\n",
    "    d = deque([(k,) for k in bags.keys() if k])\n",
    "    ok = []\n",
    "    while d:\n",
    "        ks = d.popleft()\n",
    "        curr = ks[-1]\n",
    "        nexts = bags[curr]\n",
    "        for v, n in nexts:\n",
    "            if v == \"shiny gold\":\n",
    "                ok.append(ks + (v,))\n",
    "            elif v is not None:\n",
    "                d.append(ks + (v,))\n",
    "    return len(set(o[0] for o in ok))\n",
    "\n",
    "assert part1(parse(\"\"\"\n",
    "light red bags contain 1 bright white bag, 2 muted yellow bags.\n",
    "dark orange bags contain 3 bright white bags, 4 muted yellow bags.\n",
    "bright white bags contain 1 shiny gold bag.\n",
    "muted yellow bags contain 2 shiny gold bags, 9 faded blue bags.\n",
    "shiny gold bags contain 1 dark olive bag, 2 vibrant plum bags.\n",
    "dark olive bags contain 3 faded blue bags, 4 dotted black bags.\n",
    "vibrant plum bags contain 5 faded blue bags, 6 dotted black bags.\n",
    "faded blue bags contain no other bags.\n",
    "dotted black bags contain no other bags.\n",
    "\"\"\")) == 4"
   ]
  },
  {
   "cell_type": "code",
   "execution_count": 4,
   "metadata": {},
   "outputs": [
    {
     "data": {
      "text/plain": [
       "144"
      ]
     },
     "execution_count": 4,
     "metadata": {},
     "output_type": "execute_result"
    }
   ],
   "source": [
    "part1(parse(text))"
   ]
  },
  {
   "cell_type": "markdown",
   "metadata": {},
   "source": [
    "### Part 2"
   ]
  },
  {
   "cell_type": "code",
   "execution_count": 21,
   "metadata": {},
   "outputs": [],
   "source": [
    "from functools import lru_cache\n",
    "\n",
    "def part2(bags):\n",
    "    def n_bags(color, n):\n",
    "        sub_colors = bags[color]\n",
    "        return 1 + sum([n * n_bags(c, n) for c, n in sub_colors])\n",
    "    return n_bags(\"shiny gold\", 1) - 1\n",
    "\n",
    "assert part2(parse(\"\"\"\n",
    "shiny gold bags contain 2 dark red bags.\n",
    "dark red bags contain 2 dark orange bags.\n",
    "dark orange bags contain 2 dark yellow bags.\n",
    "dark yellow bags contain 2 dark green bags.\n",
    "dark green bags contain 2 dark blue bags.\n",
    "dark blue bags contain 2 dark violet bags.\n",
    "dark violet bags contain no other bags.\n",
    "\"\"\")) == 126"
   ]
  },
  {
   "cell_type": "code",
   "execution_count": 22,
   "metadata": {},
   "outputs": [
    {
     "name": "stdout",
     "output_type": "stream",
     "text": [
      "CPU times: user 4.01 ms, sys: 0 ns, total: 4.01 ms\n",
      "Wall time: 3.88 ms\n"
     ]
    },
    {
     "data": {
      "text/plain": [
       "5956"
      ]
     },
     "execution_count": 22,
     "metadata": {},
     "output_type": "execute_result"
    }
   ],
   "source": [
    "%%time\n",
    "part2(parse(text))"
   ]
  },
  {
   "cell_type": "code",
   "execution_count": null,
   "metadata": {},
   "outputs": [],
   "source": []
  }
 ],
 "metadata": {
  "kernelspec": {
   "display_name": "Python 3",
   "language": "python",
   "name": "python3"
  },
  "language_info": {
   "codemirror_mode": {
    "name": "ipython",
    "version": 3
   },
   "file_extension": ".py",
   "mimetype": "text/x-python",
   "name": "python",
   "nbconvert_exporter": "python",
   "pygments_lexer": "ipython3",
   "version": "3.7.7"
  }
 },
 "nbformat": 4,
 "nbformat_minor": 4
}
