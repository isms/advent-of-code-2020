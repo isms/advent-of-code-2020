{
 "cells": [
  {
   "cell_type": "code",
   "execution_count": 1,
   "metadata": {},
   "outputs": [
    {
     "data": {
      "text/plain": [
       "({'hgt': '159cm',\n",
       "  'pid': '561068005',\n",
       "  'eyr': '2025',\n",
       "  'iyr': '2017',\n",
       "  'cid': '139',\n",
       "  'ecl': 'blu',\n",
       "  'hcl': '#ceb3a1',\n",
       "  'byr': '1940'},\n",
       " True)"
      ]
     },
     "execution_count": 1,
     "metadata": {},
     "output_type": "execute_result"
    }
   ],
   "source": [
    "from pathlib import Path\n",
    "\n",
    "NEEDED = set([x.split()[0] for x in \"\"\"\n",
    "byr (Birth Year)\n",
    "iyr (Issue Year)\n",
    "eyr (Expiration Year)\n",
    "hgt (Height)\n",
    "hcl (Hair Color)\n",
    "ecl (Eye Color)\n",
    "pid (Passport ID)\n",
    "\"\"\".strip().splitlines()])\n",
    "# cid (Country ID)\n",
    "\n",
    "text = Path(\"input.txt\").read_text()\n",
    "passports = text.split(\"\\n\\n\")\n",
    "\n",
    "def split(text):\n",
    "    return text.strip().split(\"\\n\\n\")\n",
    "\n",
    "def parse(passport):\n",
    "    fields = passport.strip().split()\n",
    "    return dict([field.split(\":\") for field in fields])\n",
    "\n",
    "def keys_ok(passport):\n",
    "    return NEEDED.issubset(passport.keys())\n",
    "    \n",
    "parse(passports[0]), keys_ok(parse(passports[0]))"
   ]
  },
  {
   "cell_type": "markdown",
   "metadata": {},
   "source": [
    "### Part 1"
   ]
  },
  {
   "cell_type": "code",
   "execution_count": 3,
   "metadata": {},
   "outputs": [],
   "source": [
    "test_text = \"\"\"\n",
    "ecl:gry pid:860033327 eyr:2020 hcl:#fffffd\n",
    "byr:1937 iyr:2017 cid:147 hgt:183cm\n",
    "\n",
    "iyr:2013 ecl:amb cid:350 eyr:2023 pid:028048884\n",
    "hcl:#cfa07d byr:1929\n",
    "\n",
    "hcl:#ae17e1 iyr:2013\n",
    "eyr:2024\n",
    "ecl:brn pid:760753108 byr:1931\n",
    "hgt:179cm\n",
    "\n",
    "hcl:#cfa07d eyr:2025 pid:166559648\n",
    "iyr:2011 ecl:brn hgt:59in\n",
    "\"\"\"\n",
    "\n",
    "assert [keys_ok(parse(p)) for p in split(test_text)] == [True, False, True, False]"
   ]
  },
  {
   "cell_type": "code",
   "execution_count": 5,
   "metadata": {},
   "outputs": [
    {
     "data": {
      "text/plain": [
       "202"
      ]
     },
     "execution_count": 5,
     "metadata": {},
     "output_type": "execute_result"
    }
   ],
   "source": [
    "sum(1 if keys_ok(parse(p)) else 0 for p in split(text))"
   ]
  },
  {
   "cell_type": "markdown",
   "metadata": {},
   "source": [
    "### Part 2\n",
    "\n",
    "```\n",
    "byr (Birth Year) - four digits; at least 1920 and at most 2002.\n",
    "iyr (Issue Year) - four digits; at least 2010 and at most 2020.\n",
    "eyr (Expiration Year) - four digits; at least 2020 and at most 2030.\n",
    "hgt (Height) - a number followed by either cm or in:\n",
    "If cm, the number must be at least 150 and at most 193.\n",
    "If in, the number must be at least 59 and at most 76.\n",
    "hcl (Hair Color) - a # followed by exactly six characters 0-9 or a-f.\n",
    "ecl (Eye Color) - exactly one of: amb blu brn gry grn hzl oth.\n",
    "pid (Passport ID) - a nine-digit number, including leading zeroes.\n",
    "cid (Country ID) - ignored, missing or not.\n",
    "```"
   ]
  },
  {
   "cell_type": "code",
   "execution_count": 6,
   "metadata": {},
   "outputs": [],
   "source": [
    "def is_valid(passport):\n",
    "    try:\n",
    "        assert 1920 <= int(passport[\"byr\"]) <= 2002\n",
    "        assert 2010 <= int(passport[\"iyr\"]) <= 2020\n",
    "        assert 2020 <= int(passport[\"eyr\"]) <= 2030\n",
    "        if passport[\"hgt\"].endswith(\"cm\"):\n",
    "            assert 150 <= int(passport[\"hgt\"].rstrip(\"cm\")) <= 193\n",
    "        elif passport[\"hgt\"].endswith(\"in\"):\n",
    "            assert 59 <= int(passport[\"hgt\"].rstrip(\"in\")) <= 76\n",
    "        else:\n",
    "            return False\n",
    "        assert passport[\"hcl\"].startswith(\"#\")\n",
    "        assert len(passport[\"hcl\"]) == 7\n",
    "        assert set(passport[\"hcl\"][1:]).issubset(set('abcdef0123456789'))\n",
    "        assert passport[\"ecl\"] in \"amb blu brn gry grn hzl oth\".split()\n",
    "        assert len(passport[\"pid\"]) == 9\n",
    "        assert int(passport[\"pid\"])\n",
    "    except (AssertionError, ValueError, KeyError):\n",
    "        return False\n",
    "    return True"
   ]
  },
  {
   "cell_type": "code",
   "execution_count": 7,
   "metadata": {},
   "outputs": [],
   "source": [
    "invalid_text = \"\"\"\n",
    "eyr:1972 cid:100\n",
    "hcl:#18171d ecl:amb hgt:170 pid:186cm iyr:2018 byr:1926\n",
    "\n",
    "iyr:2019\n",
    "hcl:#602927 eyr:1967 hgt:170cm\n",
    "ecl:grn pid:012533040 byr:1946\n",
    "\n",
    "hcl:dab227 iyr:2012\n",
    "ecl:brn hgt:182cm pid:021572410 eyr:2020 byr:1992 cid:277\n",
    "\n",
    "hgt:59cm ecl:zzz\n",
    "eyr:2038 hcl:74454a iyr:2023\n",
    "pid:3556412378 byr:2007\n",
    "\"\"\"\n",
    "\n",
    "assert not any([is_valid(parse(p)) for p in split(invalid_text)])\n",
    "\n",
    "valid_text = \"\"\"\n",
    "pid:087499704 hgt:74in ecl:grn iyr:2012 eyr:2030 byr:1980\n",
    "hcl:#623a2f\n",
    "\n",
    "eyr:2029 ecl:blu cid:129 byr:1989\n",
    "iyr:2014 pid:896056539 hcl:#a97842 hgt:165cm\n",
    "\n",
    "hcl:#888785\n",
    "hgt:164cm byr:2001 iyr:2015 cid:88\n",
    "pid:545766238 ecl:hzl\n",
    "eyr:2022\n",
    "\n",
    "iyr:2010 hgt:158cm hcl:#b6652a ecl:blu byr:1944 eyr:2021 pid:093154719\n",
    "\"\"\"\n",
    "\n",
    "assert all([is_valid(parse(p)) for p in split(valid_text)])"
   ]
  },
  {
   "cell_type": "code",
   "execution_count": 8,
   "metadata": {},
   "outputs": [
    {
     "data": {
      "text/plain": [
       "137"
      ]
     },
     "execution_count": 8,
     "metadata": {},
     "output_type": "execute_result"
    }
   ],
   "source": [
    "sum(1 if is_valid(parse(p)) else 0 for p in split(text))"
   ]
  }
 ],
 "metadata": {
  "kernelspec": {
   "display_name": "Python 3",
   "language": "python",
   "name": "python3"
  },
  "language_info": {
   "codemirror_mode": {
    "name": "ipython",
    "version": 3
   },
   "file_extension": ".py",
   "mimetype": "text/x-python",
   "name": "python",
   "nbconvert_exporter": "python",
   "pygments_lexer": "ipython3",
   "version": "3.7.7"
  }
 },
 "nbformat": 4,
 "nbformat_minor": 4
}
