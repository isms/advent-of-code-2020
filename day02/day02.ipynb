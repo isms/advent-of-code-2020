{
 "cells": [
  {
   "cell_type": "code",
   "execution_count": 3,
   "metadata": {},
   "outputs": [],
   "source": [
    "with open(\"input.txt\") as fp:\n",
    "    txt = fp.readlines()\n",
    "    lines = [x.strip().split(\": \") for x in txt]"
   ]
  },
  {
   "cell_type": "code",
   "execution_count": 7,
   "metadata": {},
   "outputs": [
    {
     "data": {
      "text/plain": [
       "[['1-5 k', 'kkkkhkkkkkkkkkk'],\n",
       " ['5-7 k', 'blkqhtxfgktdkxzkksk'],\n",
       " ['15-16 x', 'xxxxxxxxxxxxxxlf'],\n",
       " ['3-5 j', 'fjpvj'],\n",
       " ['17-20 x', 'zsxjrxkgxxxxxxxmxgxf']]"
      ]
     },
     "execution_count": 7,
     "metadata": {},
     "output_type": "execute_result"
    }
   ],
   "source": [
    "lines[:5]"
   ]
  },
  {
   "cell_type": "markdown",
   "metadata": {},
   "source": [
    "### Part 1"
   ]
  },
  {
   "cell_type": "code",
   "execution_count": 15,
   "metadata": {},
   "outputs": [
    {
     "data": {
      "text/plain": [
       "519"
      ]
     },
     "execution_count": 15,
     "metadata": {},
     "output_type": "execute_result"
    }
   ],
   "source": [
    "good = 0\n",
    "for policy, pw in lines:\n",
    "    idxs, letter = policy.split()\n",
    "    low, high = idxs.split(\"-\")\n",
    "    low = int(low)\n",
    "    high = int(high)\n",
    "    n = pw.count(letter)\n",
    "    if low <= n <= high:\n",
    "        good += 1\n",
    "good"
   ]
  },
  {
   "cell_type": "markdown",
   "metadata": {},
   "source": [
    "### Part 2"
   ]
  },
  {
   "cell_type": "code",
   "execution_count": 14,
   "metadata": {},
   "outputs": [
    {
     "data": {
      "text/plain": [
       "708"
      ]
     },
     "execution_count": 14,
     "metadata": {},
     "output_type": "execute_result"
    }
   ],
   "source": [
    "good = 0\n",
    "for policy, pw in lines:\n",
    "    idxs, letter = policy.split()\n",
    "    low, high = idxs.split(\"-\")\n",
    "    low = int(low)\n",
    "    high = int(high)\n",
    "    n = 0\n",
    "    for i in (low, high):\n",
    "        if pw[i-1] == letter:\n",
    "            n += 1\n",
    "    if n == 1:\n",
    "        good += 1"
   ]
  },
  {
   "cell_type": "code",
   "execution_count": null,
   "metadata": {},
   "outputs": [],
   "source": []
  }
 ],
 "metadata": {
  "kernelspec": {
   "display_name": "Python 3",
   "language": "python",
   "name": "python3"
  },
  "language_info": {
   "codemirror_mode": {
    "name": "ipython",
    "version": 3
   },
   "file_extension": ".py",
   "mimetype": "text/x-python",
   "name": "python",
   "nbconvert_exporter": "python",
   "pygments_lexer": "ipython3",
   "version": "3.7.7"
  }
 },
 "nbformat": 4,
 "nbformat_minor": 4
}
