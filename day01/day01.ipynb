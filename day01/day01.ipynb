{
 "cells": [
  {
   "cell_type": "code",
   "execution_count": 1,
   "metadata": {},
   "outputs": [],
   "source": [
    "import numpy as np\n",
    "arr = np.loadtxt(\"input.txt\", dtype=int)"
   ]
  },
  {
   "cell_type": "markdown",
   "metadata": {},
   "source": [
    "### Part 1"
   ]
  },
  {
   "cell_type": "code",
   "execution_count": 2,
   "metadata": {},
   "outputs": [
    {
     "name": "stdout",
     "output_type": "stream",
     "text": [
      "CPU times: user 177 ms, sys: 27 ms, total: 204 ms\n",
      "Wall time: 203 ms\n"
     ]
    },
    {
     "data": {
      "text/plain": [
       "964875"
      ]
     },
     "execution_count": 2,
     "metadata": {},
     "output_type": "execute_result"
    }
   ],
   "source": [
    "%%time\n",
    "import z3\n",
    "\n",
    "N = 2\n",
    "s = z3.Solver()\n",
    "xs = [z3.Bool(f\"x_{i}\") for i in range(len(arr))]\n",
    "s.add(z3.PbEq([(x, int(a)) for x, a in zip(xs, arr)], 2020))\n",
    "s.add(z3.PbEq([(x, 1) for x in xs], N))\n",
    "result = s.check()\n",
    "indices = [i for i, x in enumerate(xs) if s.model()[x]]\n",
    "np.product(arr[indices])"
   ]
  },
  {
   "cell_type": "markdown",
   "metadata": {},
   "source": [
    "### Part 2"
   ]
  },
  {
   "cell_type": "code",
   "execution_count": 3,
   "metadata": {},
   "outputs": [
    {
     "name": "stdout",
     "output_type": "stream",
     "text": [
      "CPU times: user 73.4 ms, sys: 3.75 ms, total: 77.2 ms\n",
      "Wall time: 76.3 ms\n"
     ]
    },
    {
     "data": {
      "text/plain": [
       "158661360"
      ]
     },
     "execution_count": 3,
     "metadata": {},
     "output_type": "execute_result"
    }
   ],
   "source": [
    "%%time\n",
    "N = 3\n",
    "s = z3.Solver()\n",
    "xs = [z3.Bool(f\"x_{i}\") for i in range(len(arr))]\n",
    "s.add(z3.PbEq([(x, int(a)) for x, a in zip(xs, arr)], 2020))\n",
    "s.add(z3.PbEq([(x, 1) for x in xs], N))\n",
    "result = s.check()\n",
    "indices = [i for i, x in enumerate(xs) if s.model()[x]]\n",
    "np.product(arr[indices])"
   ]
  }
 ],
 "metadata": {
  "kernelspec": {
   "display_name": "Python 3",
   "language": "python",
   "name": "python3"
  },
  "language_info": {
   "codemirror_mode": {
    "name": "ipython",
    "version": 3
   },
   "file_extension": ".py",
   "mimetype": "text/x-python",
   "name": "python",
   "nbconvert_exporter": "python",
   "pygments_lexer": "ipython3",
   "version": "3.7.7"
  }
 },
 "nbformat": 4,
 "nbformat_minor": 4
}
