{
 "cells": [
  {
   "cell_type": "code",
   "execution_count": 1,
   "metadata": {},
   "outputs": [],
   "source": [
    "from collections import Counter\n",
    "from pathlib import Path\n",
    "from typing import List, Tuple, Union\n",
    "from dataclasses import dataclass\n",
    "from loguru import logger\n",
    "from tqdm import tqdm\n",
    "import copy\n",
    "import sys\n",
    "\n",
    "text = Path(\"input.txt\").read_text()"
   ]
  },
  {
   "cell_type": "code",
   "execution_count": 2,
   "metadata": {},
   "outputs": [],
   "source": [
    "@dataclass\n",
    "class State:\n",
    "    history: List[int]\n",
    "    counter: int = 0\n",
    "    pointer: int = 0\n",
    "    accumulator: int = 0\n",
    "    terminated: bool = False\n",
    "    curr: Tuple[str, int] = (\"ready\", -1)\n",
    "        \n",
    "    def __init__(self, program_text=None):\n",
    "        self.history = []\n",
    "        if program_text:\n",
    "            program = self.parse(program_text)\n",
    "            self.execute(program)\n",
    "        \n",
    "    @staticmethod\n",
    "    def parse(program: str) -> List[Tuple[str, int]]:\n",
    "        lines = []\n",
    "        for line in program.strip().splitlines():\n",
    "            instr, n = line.split()\n",
    "            n = int(n)\n",
    "            lines.append((instr, n))\n",
    "        return lines\n",
    "        \n",
    "    def execute(self, program: List[Tuple[str, int]]):\n",
    "        self.program = program\n",
    "        while True:\n",
    "            if self.pointer >= len(self.program):\n",
    "                # stop running if we ran out of instructions\n",
    "                self.terminated = True\n",
    "                logger.info(f\"terminated: {self}\")\n",
    "                break\n",
    "            if self.history and max(Counter(self.history).values()) > 1:\n",
    "                # stop infinite loops\n",
    "                logger.warning(f\"hitting an instruction [line={self.pointer}] for the second time, aborting!\")\n",
    "                break\n",
    "            self.curr = self.program[self.pointer]\n",
    "            logger.debug(f\"running: {self}\")\n",
    "            self.call(*self.curr)            \n",
    "    \n",
    "    def call(self, instr, n):\n",
    "        self.history.append(self.pointer)\n",
    "        # look up the function\n",
    "        func = self.__getattribute__(instr)\n",
    "        # call it with the argument\n",
    "        func(n)\n",
    "        self.counter += 1\n",
    "    \n",
    "    def jmp(self, n):\n",
    "        self.pointer += n\n",
    "    \n",
    "    def acc(self, n):\n",
    "        self.accumulator += n\n",
    "        self.pointer += 1\n",
    "        \n",
    "    def nop(self, *args):\n",
    "        self.pointer += 1"
   ]
  },
  {
   "cell_type": "code",
   "execution_count": 3,
   "metadata": {},
   "outputs": [
    {
     "name": "stderr",
     "output_type": "stream",
     "text": [
      "2020-12-08 23:37:56.863 | WARNING  | __main__:execute:35 - hitting an instruction [line=508] for the second time, aborting!\n"
     ]
    },
    {
     "data": {
      "text/plain": [
       "1610"
      ]
     },
     "execution_count": 3,
     "metadata": {},
     "output_type": "execute_result"
    }
   ],
   "source": [
    "logger.remove()\n",
    "logger.add(sys.stderr, level=\"INFO\")\n",
    "state = State()\n",
    "state.execute(State.parse(text))\n",
    "state.accumulator"
   ]
  },
  {
   "cell_type": "code",
   "execution_count": 4,
   "metadata": {},
   "outputs": [
    {
     "name": "stderr",
     "output_type": "stream",
     "text": [
      "2020-12-08 23:37:56.882 | DEBUG    | __main__:execute:38 - running: State(history=[], counter=0, pointer=0, accumulator=0, terminated=False, curr=('nop', 0))\n",
      "2020-12-08 23:37:56.883 | DEBUG    | __main__:execute:38 - running: State(history=[0], counter=1, pointer=1, accumulator=0, terminated=False, curr=('acc', 1))\n",
      "2020-12-08 23:37:56.883 | DEBUG    | __main__:execute:38 - running: State(history=[0, 1], counter=2, pointer=2, accumulator=1, terminated=False, curr=('jmp', 4))\n",
      "2020-12-08 23:37:56.884 | DEBUG    | __main__:execute:38 - running: State(history=[0, 1, 2], counter=3, pointer=6, accumulator=1, terminated=False, curr=('acc', 1))\n",
      "2020-12-08 23:37:56.885 | DEBUG    | __main__:execute:38 - running: State(history=[0, 1, 2, 6], counter=4, pointer=7, accumulator=2, terminated=False, curr=('nop', -4))\n",
      "2020-12-08 23:37:56.885 | DEBUG    | __main__:execute:38 - running: State(history=[0, 1, 2, 6, 7], counter=5, pointer=8, accumulator=2, terminated=False, curr=('acc', 6))\n",
      "2020-12-08 23:37:56.886 | INFO     | __main__:execute:31 - terminated: State(history=[0, 1, 2, 6, 7, 8], counter=6, pointer=9, accumulator=8, terminated=True, curr=('acc', 6))\n"
     ]
    }
   ],
   "source": [
    "logger.remove()\n",
    "logger.add(sys.stderr, level=\"DEBUG\")\n",
    "state = State()\n",
    "state.execute(State.parse(\"\"\"\n",
    "nop +0\n",
    "acc +1\n",
    "jmp +4\n",
    "acc +3\n",
    "jmp -3\n",
    "acc -99\n",
    "acc +1\n",
    "nop -4\n",
    "acc +6\n",
    "\"\"\"))"
   ]
  },
  {
   "cell_type": "code",
   "execution_count": 5,
   "metadata": {},
   "outputs": [
    {
     "name": "stderr",
     "output_type": "stream",
     "text": [
      " 75%|███████▌  | 3/4 [00:00<00:00, 3551.49it/s]\n"
     ]
    }
   ],
   "source": [
    "logger.remove()\n",
    "logger.add(sys.stderr, level=\"ERROR\")\n",
    "\n",
    "def flip_nop_jmp(program, i):\n",
    "    instr, n = program[i]\n",
    "    flipped = \"jmp\" if instr == \"nop\" else \"nop\"\n",
    "    return program[:i] + [(flipped, n)] + program[i+1:]\n",
    "\n",
    "def find_terminating(program):\n",
    "    idxs = [i for i, (instr, *_rest) in enumerate(program) if instr in (\"nop\", \"jmp\")]\n",
    "    logger.info(f\"trying {idxs}\")\n",
    "    for i in tqdm(idxs):\n",
    "        copied = copy.deepcopy(program)\n",
    "        tweaked = flip_nop_jmp(copied, i)\n",
    "        state = State()\n",
    "        state.execute(tweaked)\n",
    "        if state.terminated:\n",
    "            return state\n",
    "    raise ValueError(\"Did not find a terminating program!\")\n",
    "                \n",
    "state = find_terminating(State.parse(\"\"\"\n",
    "nop +0\n",
    "acc +1\n",
    "jmp +4\n",
    "acc +3\n",
    "jmp -3\n",
    "acc -99\n",
    "acc +1\n",
    "jmp -4\n",
    "acc +6\n",
    "\"\"\"))\n",
    "assert state.accumulator == 8"
   ]
  },
  {
   "cell_type": "code",
   "execution_count": 6,
   "metadata": {},
   "outputs": [
    {
     "name": "stderr",
     "output_type": "stream",
     "text": [
      " 28%|██▊       | 81/292 [00:00<00:01, 155.58it/s]\n"
     ]
    }
   ],
   "source": [
    "state = find_terminating(State.parse(text))"
   ]
  },
  {
   "cell_type": "code",
   "execution_count": 7,
   "metadata": {},
   "outputs": [
    {
     "data": {
      "text/plain": [
       "1703"
      ]
     },
     "execution_count": 7,
     "metadata": {},
     "output_type": "execute_result"
    }
   ],
   "source": [
    "state.accumulator"
   ]
  },
  {
   "cell_type": "code",
   "execution_count": null,
   "metadata": {},
   "outputs": [],
   "source": []
  }
 ],
 "metadata": {
  "kernelspec": {
   "display_name": "Python 3",
   "language": "python",
   "name": "python3"
  },
  "language_info": {
   "codemirror_mode": {
    "name": "ipython",
    "version": 3
   },
   "file_extension": ".py",
   "mimetype": "text/x-python",
   "name": "python",
   "nbconvert_exporter": "python",
   "pygments_lexer": "ipython3",
   "version": "3.7.7"
  }
 },
 "nbformat": 4,
 "nbformat_minor": 4
}
