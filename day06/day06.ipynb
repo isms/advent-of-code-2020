{
 "cells": [
  {
   "cell_type": "code",
   "execution_count": 1,
   "metadata": {},
   "outputs": [
    {
     "data": {
      "text/plain": [
       "[['tzibqaulrw', 'bratip', 'trbhia', 'rtiab'],\n",
       " ['sgqytjiw', 'gkwqybtims'],\n",
       " ['tufcqanysox', 'ovufxnaqt', 'aenbqfkutgjx', 'taufvnxqi', 'nuaqxfmsth'],\n",
       " ['qj', 'jsqx'],\n",
       " ['gltviuzdrkema',\n",
       "  'idclmuektgora',\n",
       "  'idayrlmgukte',\n",
       "  'xailwumktdergf',\n",
       "  'jmrniauldbthkpqge'],\n",
       " ['zc', 'ucfhz', 'cisz'],\n",
       " ['i', 'i', 'i', 'i'],\n",
       " ['rqigekxlmzswycnjhfv', 'lznacirjfkyvxwsmeg'],\n",
       " ['bohsmgujxdnrwza', 'pfaeqkinwgxjt'],\n",
       " ['buhiwcayjsdlox', 'hxoiajbdyucswl', 'asildxjbcywuofh', 'iyduashjcboxwl']]"
      ]
     },
     "execution_count": 1,
     "metadata": {},
     "output_type": "execute_result"
    }
   ],
   "source": [
    "from pathlib import Path\n",
    "from functools import reduce\n",
    "\n",
    "text = Path(\"input.txt\").read_text()\n",
    "groups = [x.strip().split() for x in text.split(\"\\n\\n\")]\n",
    "groups[:10]"
   ]
  },
  {
   "cell_type": "markdown",
   "metadata": {},
   "source": [
    "### Part 1"
   ]
  },
  {
   "cell_type": "code",
   "execution_count": 2,
   "metadata": {},
   "outputs": [
    {
     "data": {
      "text/plain": [
       "6161"
      ]
     },
     "execution_count": 2,
     "metadata": {},
     "output_type": "execute_result"
    }
   ],
   "source": [
    "def unique(strings):\n",
    "    return reduce(lambda a, b: set(a) | set(b), strings, set())\n",
    "\n",
    "sum(len(unique(group)) for group in groups)"
   ]
  },
  {
   "cell_type": "markdown",
   "metadata": {},
   "source": [
    "### Part 2"
   ]
  },
  {
   "cell_type": "code",
   "execution_count": 3,
   "metadata": {},
   "outputs": [
    {
     "data": {
      "text/plain": [
       "2971"
      ]
     },
     "execution_count": 3,
     "metadata": {},
     "output_type": "execute_result"
    }
   ],
   "source": [
    "def common(strings):\n",
    "    return reduce(lambda a, b: set(a) & set(b), strings, set(text))\n",
    "\n",
    "sum(len(common(group)) for group in groups)"
   ]
  }
 ],
 "metadata": {
  "kernelspec": {
   "display_name": "Python 3",
   "language": "python",
   "name": "python3"
  },
  "language_info": {
   "codemirror_mode": {
    "name": "ipython",
    "version": 3
   },
   "file_extension": ".py",
   "mimetype": "text/x-python",
   "name": "python",
   "nbconvert_exporter": "python",
   "pygments_lexer": "ipython3",
   "version": "3.7.7"
  }
 },
 "nbformat": 4,
 "nbformat_minor": 4
}
