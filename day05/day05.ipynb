{
 "cells": [
  {
   "cell_type": "code",
   "execution_count": 1,
   "metadata": {},
   "outputs": [],
   "source": [
    "from pathlib import Path\n",
    "\n",
    "text = Path(\"input.txt\").read_text().strip()\n",
    "\n",
    "def to_numbers(line):\n",
    "    row, col = line[:7], line[-3:]\n",
    "    r = int(row.replace(\"B\", \"1\").replace(\"F\", \"0\"), base=2)\n",
    "    c = int(col.replace(\"R\", \"1\").replace(\"L\", \"0\"), base=2)\n",
    "    return r, c\n",
    "\n",
    "def seat_id(r, c):\n",
    "    return r * 8 + c\n",
    "\n",
    "numbers = [to_numbers(line) for line in text.splitlines()]\n",
    "seat_ids = [seat_id(*n) for n in numbers]"
   ]
  },
  {
   "cell_type": "markdown",
   "metadata": {},
   "source": [
    "### Part 1"
   ]
  },
  {
   "cell_type": "code",
   "execution_count": 2,
   "metadata": {},
   "outputs": [
    {
     "data": {
      "text/plain": [
       "866"
      ]
     },
     "execution_count": 2,
     "metadata": {},
     "output_type": "execute_result"
    }
   ],
   "source": [
    "max(seat_ids)"
   ]
  },
  {
   "cell_type": "markdown",
   "metadata": {},
   "source": [
    "### Part 2"
   ]
  },
  {
   "cell_type": "code",
   "execution_count": 3,
   "metadata": {},
   "outputs": [
    {
     "name": "stdout",
     "output_type": "stream",
     "text": [
      "missing: row=72 col=7 seat_id=583\n"
     ]
    }
   ],
   "source": [
    "r, c = min(numbers)\n",
    "R, C = max(numbers)\n",
    "present = set(numbers)\n",
    "while (r, c) <= (R, C):\n",
    "    if not (r, c) in present:\n",
    "        print(f\"missing: row={r} col={c} seat_id={seat_id(r, c)}\")\n",
    "        break\n",
    "    if c == 7:\n",
    "        r += 1\n",
    "    c = (c + 1) % 8"
   ]
  }
 ],
 "metadata": {
  "kernelspec": {
   "display_name": "Python 3",
   "language": "python",
   "name": "python3"
  },
  "language_info": {
   "codemirror_mode": {
    "name": "ipython",
    "version": 3
   },
   "file_extension": ".py",
   "mimetype": "text/x-python",
   "name": "python",
   "nbconvert_exporter": "python",
   "pygments_lexer": "ipython3",
   "version": "3.7.7"
  }
 },
 "nbformat": 4,
 "nbformat_minor": 4
}
